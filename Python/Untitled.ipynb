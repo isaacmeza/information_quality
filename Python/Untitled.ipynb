{
 "cells": [
  {
   "cell_type": "code",
   "execution_count": 14,
   "id": "d3e163ee",
   "metadata": {},
   "outputs": [
    {
     "name": "stdout",
     "output_type": "stream",
     "text": [
      "C:/Users/isaac/Dropbox/Apps/ShareLaTeX/information_lawyer_quality/Raw/Captura Express Completo.csv\n"
     ]
    }
   ],
   "source": [
    "path = 'C:/Users/isaac/Dropbox/Apps/ShareLaTeX/information_lawyer_quality'"
   ]
  },
  {
   "cell_type": "code",
   "execution_count": 27,
   "id": "5c4c0425",
   "metadata": {},
   "outputs": [
    {
     "data": {
      "text/html": [
       "<div>\n",
       "<style scoped>\n",
       "    .dataframe tbody tr th:only-of-type {\n",
       "        vertical-align: middle;\n",
       "    }\n",
       "\n",
       "    .dataframe tbody tr th {\n",
       "        vertical-align: top;\n",
       "    }\n",
       "\n",
       "    .dataframe thead th {\n",
       "        text-align: right;\n",
       "    }\n",
       "</style>\n",
       "<table border=\"1\" class=\"dataframe\">\n",
       "  <thead>\n",
       "    <tr style=\"text-align: right;\">\n",
       "      <th></th>\n",
       "      <th>junta</th>\n",
       "      <th>exp</th>\n",
       "      <th>anio</th>\n",
       "      <th>totaldictaminador</th>\n",
       "    </tr>\n",
       "  </thead>\n",
       "  <tbody>\n",
       "    <tr>\n",
       "      <th>0</th>\n",
       "      <td>2</td>\n",
       "      <td>5</td>\n",
       "      <td>2011</td>\n",
       "      <td>NaN</td>\n",
       "    </tr>\n",
       "    <tr>\n",
       "      <th>1</th>\n",
       "      <td>2</td>\n",
       "      <td>13</td>\n",
       "      <td>2011</td>\n",
       "      <td>NaN</td>\n",
       "    </tr>\n",
       "    <tr>\n",
       "      <th>2</th>\n",
       "      <td>2</td>\n",
       "      <td>17</td>\n",
       "      <td>2011</td>\n",
       "      <td>NaN</td>\n",
       "    </tr>\n",
       "    <tr>\n",
       "      <th>3</th>\n",
       "      <td>2</td>\n",
       "      <td>38</td>\n",
       "      <td>2011</td>\n",
       "      <td>52033.43</td>\n",
       "    </tr>\n",
       "    <tr>\n",
       "      <th>4</th>\n",
       "      <td>2</td>\n",
       "      <td>190</td>\n",
       "      <td>2011</td>\n",
       "      <td>NaN</td>\n",
       "    </tr>\n",
       "  </tbody>\n",
       "</table>\n",
       "</div>"
      ],
      "text/plain": [
       "   junta  exp  anio  totaldictaminador\n",
       "0      2    5  2011                NaN\n",
       "1      2   13  2011                NaN\n",
       "2      2   17  2011                NaN\n",
       "3      2   38  2011           52033.43\n",
       "4      2  190  2011                NaN"
      ]
     },
     "execution_count": 27,
     "metadata": {},
     "output_type": "execute_result"
    }
   ],
   "source": [
    "import pandas as pd \n",
    "\n",
    "# Read data \n",
    "captura_express = pd.read_csv(path + '/Raw/calif/Captura Express Completo.csv') \n",
    "captura_express = captura_express[['JUNTA', 'EXP', 'AÑO', ' Total Dictaminador ']]\n",
    "captura_express[' Total Dictaminador '] = pd.to_numeric(captura_express[' Total Dictaminador '], errors='coerce')\n",
    "captura_express.rename(columns={'JUNTA': 'junta', 'EXP': 'exp', 'AÑO': 'anio', ' Total Dictaminador ': 'totaldictaminador'}, inplace=True)\n",
    "captura_express.head()\n",
    "\n"
   ]
  },
  {
   "cell_type": "code",
   "execution_count": 31,
   "id": "4892cfda",
   "metadata": {},
   "outputs": [
    {
     "data": {
      "text/plain": [
       "['nombre ',\n",
       " ' \"numExpediente\" ',\n",
       " ' \"inicio\" ',\n",
       " ' \"fin\" ',\n",
       " ' \"preg1 calif\" ',\n",
       " ' \"preg1 justificacion\" ',\n",
       " ' \"preg2 calif\" ',\n",
       " ' \"preg2 justificacion\" ',\n",
       " ' \"preg3 calif\" ',\n",
       " ' \"preg3 justificacion\" ',\n",
       " ' \"preg4 calif\" ',\n",
       " ' \"preg4 justificacion\" ',\n",
       " ' \"preg5 calif\" ',\n",
       " ' \"preg5 justificacion\" ',\n",
       " ' \"calif global\" ',\n",
       " ' \"prediccion a\" ',\n",
       " ' \"prediccion b\" ',\n",
       " ' \"prediccion c\" ',\n",
       " ' \"prediccion d\" ',\n",
       " ' \"prediccion e\" ',\n",
       " ' \"prediccion monto1\" ',\n",
       " ' \"prediccion monto2\" ',\n",
       " ' \"prediccion seleccion 1\" ',\n",
       " ' \"prediccion seleccion 2\" ']"
      ]
     },
     "execution_count": 31,
     "metadata": {},
     "output_type": "execute_result"
    }
   ],
   "source": [
    "base_abogados = pd.read_csv(path + '/Raw/calif/base_abogados.csv') \n",
    "list(base_abogados.columns)\n",
    "\n"
   ]
  },
  {
   "cell_type": "code",
   "execution_count": null,
   "id": "9d95d409",
   "metadata": {},
   "outputs": [],
   "source": []
  }
 ],
 "metadata": {
  "kernelspec": {
   "display_name": "Python 3",
   "language": "python",
   "name": "python3"
  },
  "language_info": {
   "codemirror_mode": {
    "name": "ipython",
    "version": 3
   },
   "file_extension": ".py",
   "mimetype": "text/x-python",
   "name": "python",
   "nbconvert_exporter": "python",
   "pygments_lexer": "ipython3",
   "version": "3.8.8"
  }
 },
 "nbformat": 4,
 "nbformat_minor": 5
}
