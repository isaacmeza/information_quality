{
 "cells": [
  {
   "cell_type": "code",
   "execution_count": 1,
   "id": "64e97c63",
   "metadata": {},
   "outputs": [],
   "source": [
    "path = 'C:/Users/isaac/Dropbox/Apps/ShareLaTeX/information_lawyer_quality'"
   ]
  },
  {
   "cell_type": "code",
   "execution_count": null,
   "id": "53385ff3",
   "metadata": {},
   "outputs": [],
   "source": [
    "import pandas as pd\n",
    "dem_iniciales = pd.read_excel(path + '/Raw/iniciales_dem/dulce.xlsx')\n",
    "dem_iniciales.head()"
   ]
  },
  {
   "cell_type": "code",
   "execution_count": null,
   "id": "70e22efe",
   "metadata": {},
   "outputs": [],
   "source": [
    "def url_to_id(url):\n",
    "    x = url.split(\"/\")\n",
    "    return x[5]"
   ]
  },
  {
   "cell_type": "code",
   "execution_count": null,
   "id": "ca54fda0",
   "metadata": {},
   "outputs": [],
   "source": [
    "import sys\n",
    "!{sys.executable} -m pip install gdown\n",
    "import gdown "
   ]
  },
  {
   "cell_type": "code",
   "execution_count": null,
   "id": "ae19ae16",
   "metadata": {},
   "outputs": [],
   "source": [
    "for index, row in dem_iniciales.iterrows():\n",
    "    id = url_to_id(row['LUGAURL'])\n",
    "    url = 'https://drive.google.com/uc?id=' + id\n",
    "    output = path + '/_aux/escaneos/' + row['EXPEDIENTE'] + '.pdf'\n",
    "    gdown.download(url, output, quiet=False)      "
   ]
  },
  {
   "cell_type": "code",
   "execution_count": 31,
   "id": "ed546c7c",
   "metadata": {},
   "outputs": [],
   "source": [
    "from PIL import Image\n",
    "import pytesseract\n",
    "import sys\n",
    "from pdf2image import convert_from_path\n",
    "import os\n",
    "import cv2\n",
    "import matplotlib.pyplot as plt\n"
   ]
  },
  {
   "cell_type": "code",
   "execution_count": 47,
   "id": "2179331f",
   "metadata": {},
   "outputs": [],
   "source": [
    "# Path of the pdf\n",
    "PDF_file = path + './_aux/escaneos/7_1443_2019.pdf'\n",
    "  \n",
    "'''\n",
    "Part #1 : Converting PDF to images\n",
    "'''\n",
    "  \n",
    "# Store all the pages of the PDF in a variable\n",
    "pages = convert_from_path(PDF_file, 500, poppler_path=r'C:\\Program Files\\poppler-0.68.0_x86\\bin')\n",
    "  "
   ]
  },
  {
   "cell_type": "code",
   "execution_count": 48,
   "id": "3320aef0",
   "metadata": {},
   "outputs": [],
   "source": [
    "# Counter to store images of each page of PDF to image\n",
    "image_counter = 1\n",
    "  \n",
    "# Iterate through all the pages stored above\n",
    "for page in pages:\n",
    "  \n",
    "    # Declaring filename for each page of PDF as JPG\n",
    "    # For each page, filename will be:\n",
    "    # PDF page 1 -> page_1.jpg\n",
    "    # PDF page 2 -> page_2.jpg\n",
    "    # PDF page 3 -> page_3.jpg\n",
    "    # ....\n",
    "    # PDF page n -> page_n.jpg\n",
    "    filename = path + \"./_aux/escaneos/page_\"+str(image_counter)+\".jpg\"\n",
    "      \n",
    "    # Save the image of the page in system\n",
    "    page.save(filename, 'JPEG')\n",
    "  \n",
    "    # Increment the counter to update filename\n",
    "    image_counter = image_counter + 1\n",
    "  "
   ]
  },
  {
   "cell_type": "code",
   "execution_count": 76,
   "id": "dc36a6ca",
   "metadata": {},
   "outputs": [],
   "source": [
    "import cv2\n",
    "import numpy as np\n",
    "# Remove noise\n",
    "def remove_noise(img):\n",
    "    return cv2.medianBlur(img, 5)\n",
    "\n",
    "# Thresholding\n",
    "def threshold(img):\n",
    "    # return cv2.threshold(img, 0, 255, cv2.THRESH_BINARY + cv2.THRESH_OTSU)[1]\n",
    "    return cv2.threshold(img, 0, 255, cv2.THRESH_BINARY | cv2.THRESH_OTSU)[1]\n",
    "\n",
    "# skew correction\n",
    "def deskew(img):\n",
    "    coords = np.column_stack(np.where(img > 0))\n",
    "    angle = cv2.minAreaRect(coords)[-1]\n",
    "    if angle < -45:\n",
    "        angle = -(90 + angle)\n",
    "    else:\n",
    "        angle = -angle\n",
    "    (h, w) = img.shape[:2]\n",
    "    center = (w//2, h//2)\n",
    "    M = cv2.getRotationMatrix2D(center, angle, 1.0)\n",
    "    rotated = cv2.warpAffine(\n",
    "        img, M, (w, h), flags=cv2.INTER_CUBIC, borderMode=cv2.BORDER_REPLICATE)\n",
    "    return rotated\n",
    "\n",
    "\n"
   ]
  },
  {
   "cell_type": "code",
   "execution_count": 77,
   "id": "c504277c",
   "metadata": {},
   "outputs": [],
   "source": [
    "outfile = path + \"./_aux/escaneos/prueba1.txt\"\n",
    "f = open(outfile, \"a\")\n",
    "filename = path + \"./_aux/escaneos/page_\"+str(5)+\".jpg\"\n",
    "img = cv2.imread(filename, cv2.IMREAD_GRAYSCALE)\n",
    "#img = Image.open(filename)\n"
   ]
  },
  {
   "cell_type": "code",
   "execution_count": 78,
   "id": "6f0c2f7f",
   "metadata": {},
   "outputs": [],
   "source": [
    "img = deskew(threshold(remove_noise(img)))\n",
    "\n"
   ]
  },
  {
   "cell_type": "code",
   "execution_count": 80,
   "id": "ea25f3aa",
   "metadata": {},
   "outputs": [],
   "source": [
    "text = str(((pytesseract.image_to_string(img,lang='spa',\n",
    "                                             config = r'--oem 3 --psm 6'))))\n",
    "  \n",
    "    # The recognized text is stored in variable text\n",
    "    # Any string processing may be applied on text\n",
    "    # Here, basic formatting has been done:\n",
    "    # In many PDFs, at line ending, if a word can't\n",
    "    # be written fully, a 'hyphen' is added.\n",
    "text = text.replace('-\\n', '')    \n",
    "  \n",
    "    # Finally, write the processed text to the file.\n",
    "f.write(text)\n",
    "f.close()"
   ]
  },
  {
   "cell_type": "code",
   "execution_count": null,
   "id": "6615bd58",
   "metadata": {},
   "outputs": [],
   "source": []
  },
  {
   "cell_type": "code",
   "execution_count": 54,
   "id": "1578e44c",
   "metadata": {},
   "outputs": [],
   "source": [
    "\n",
    "'''\n",
    "Part #2 - Recognizing text from the images using OCR\n",
    "'''\n",
    "pytesseract.pytesseract.tesseract_cmd = r'C:\\Program Files\\Tesseract-OCR\\tesseract'\n",
    "\n",
    "# Variable to get count of total number of pages\n",
    "filelimit = image_counter-1\n",
    "  \n",
    "# Creating a text file to write the output\n",
    "outfile = path + \"./_aux/escaneos/7_1443_2019.txt\"\n",
    "  \n",
    "# Open the file in append mode so that \n",
    "# All contents of all images are added to the same file\n",
    "f = open(outfile, \"a\")\n",
    "  \n",
    "# Iterate from 1 to total number of pages\n",
    "for i in range(1, filelimit + 1):\n",
    "  \n",
    "    # Set filename to recognize text from\n",
    "    # Again, these files will be:\n",
    "    # page_1.jpg\n",
    "    # page_2.jpg\n",
    "    # ....\n",
    "    # page_n.jpg\n",
    "    filename = path + \"./_aux/escaneos/page_\"+str(i)+\".jpg\"\n",
    "          \n",
    "    # Recognize the text as string in image using pytesserct\n",
    "    # 0    Legacy engine only.\n",
    "    # 1    Neural nets LSTM engine only.\n",
    "    # 2    Legacy + LSTM engines.\n",
    "    # 3    Default, based on what is available.\n",
    "    text = str(((pytesseract.image_to_string(Image.open(filename),lang='spa',\n",
    "                                             config = r'--oem 3 --psm 6'))))\n",
    "  \n",
    "    # The recognized text is stored in variable text\n",
    "    # Any string processing may be applied on text\n",
    "    # Here, basic formatting has been done:\n",
    "    # In many PDFs, at line ending, if a word can't\n",
    "    # be written fully, a 'hyphen' is added.\n",
    "    text = text.replace('-\\n', '')    \n",
    "  \n",
    "    # Finally, write the processed text to the file.\n",
    "    f.write(text)\n",
    "  \n",
    "# Close the file after writing all the text.\n",
    "f.close()"
   ]
  },
  {
   "cell_type": "code",
   "execution_count": null,
   "id": "f0226a2b",
   "metadata": {},
   "outputs": [],
   "source": []
  }
 ],
 "metadata": {
  "kernelspec": {
   "display_name": "Python 3",
   "language": "python",
   "name": "python3"
  },
  "language_info": {
   "codemirror_mode": {
    "name": "ipython",
    "version": 3
   },
   "file_extension": ".py",
   "mimetype": "text/x-python",
   "name": "python",
   "nbconvert_exporter": "python",
   "pygments_lexer": "ipython3",
   "version": "3.8.8"
  }
 },
 "nbformat": 4,
 "nbformat_minor": 5
}
