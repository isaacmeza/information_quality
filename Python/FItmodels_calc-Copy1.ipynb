{
 "cells": [
  {
   "cell_type": "code",
   "execution_count": 1,
   "id": "f76ab80c",
   "metadata": {},
   "outputs": [],
   "source": [
    "import dill\n",
    "dill.load_session('ref_reports.db')"
   ]
  },
  {
   "cell_type": "code",
   "execution_count": 1,
   "id": "09c5e8b7",
   "metadata": {},
   "outputs": [],
   "source": [
    "import pandas as pd \n",
    "import numpy as np\n",
    "\n",
    "from sklearn import preprocessing\n",
    "from sklearn.preprocessing import StandardScaler, OneHotEncoder\n",
    "from sklearn.preprocessing import PolynomialFeatures\n",
    "from sklearn.pipeline import Pipeline\n",
    "from sklearn.model_selection import cross_val_score\n",
    "from sklearn.model_selection import cross_val_predict\n",
    "from sklearn.model_selection import GridSearchCV\n",
    "from sklearn.impute import SimpleImputer\n",
    "from sklearn.compose import ColumnTransformer\n",
    "from sklearn.model_selection import RepeatedKFold\n",
    "from sklearn.model_selection import KFold\n",
    "from sklearn.model_selection import RandomizedSearchCV\n",
    "from sklearn.model_selection import ParameterGrid\n",
    "from sklearn.inspection import permutation_importance\n",
    "import multiprocessing\n",
    "from sklearn.metrics import explained_variance_score\n",
    "from sklearn.metrics import r2_score\n",
    "from sklearn.metrics import mean_absolute_error\n",
    "from sklearn.metrics import mean_squared_error\n",
    "from sklearn.metrics import mean_absolute_percentage_error\n",
    "from sklearn.metrics import average_precision_score\n",
    "from sklearn import metrics\n",
    "from sklearn.metrics import accuracy_score"
   ]
  },
  {
   "cell_type": "code",
   "execution_count": 2,
   "id": "69ef8ce3",
   "metadata": {},
   "outputs": [
    {
     "name": "stdout",
     "output_type": "stream",
     "text": [
      "(4998, 77)\n"
     ]
    },
    {
     "data": {
      "text/plain": [
       "Index(['reclutamiento', 'giro_empresa_d2', 'giro_empresa_d3',\n",
       "       'giro_empresa_d4', 'giro_empresa_d5', 'giro_empresa_d6',\n",
       "       'giro_empresa_d7', 'giro_empresa_d8', 'giro_empresa_d9',\n",
       "       'giro_empresa_d10', 'giro_empresa_d11', 'giro_empresa_d12',\n",
       "       'giro_empresa_d13', 'giro_empresa_d14', 'giro_empresa_d15',\n",
       "       'giro_empresa_d16', 'giro_empresa_d17', 'giro_empresa_d18',\n",
       "       'giro_empresa_d19', 'giro_empresa_d20', 'giro_empresa_d21',\n",
       "       'giro_empresa_d22', 'giro_empresa_d23', 'giro_empresa_d24',\n",
       "       'trabajador_base', 'gen', 'tipo_jornada_d2', 'tipo_jornada_d3',\n",
       "       'tipo_jornada_d4', 'reinst', 'indem', 'sal_caidos', 'prima_antig',\n",
       "       'prima_vac', 'hextra', 'rec20', 'prima_dom', 'desc_sem', 'desc_ob',\n",
       "       'sarimssinf', 'utilidades', 'monto_recsueldo', 'nulidad', 'vac', 'ag',\n",
       "       'codem', 'horas_extra', 'antiguedad', 'salario_diario', 'horas_sem',\n",
       "       'c_antiguedad', 'c_indem', 'c_prima_antig', 'c_rec20', 'c_ag', 'c_vac',\n",
       "       'c_hextra', 'c_prima_vac', 'c_prima_dom', 'c_desc_sem', 'c_desc_ob',\n",
       "       'c_utilidades', 'c_recsueldo', 'c_total', 'min_indem',\n",
       "       'min_prima_antig', 'min_ag', 'min_vac', 'min_prima_vac', 'min_ley',\n",
       "       'c_sal_caidos', 'prop_hextra', 'modo_termino', 'liq_total',\n",
       "       'liq_total_tope', 'liq_total_pos', 'duracion'],\n",
       "      dtype='object')"
      ]
     },
     "execution_count": 2,
     "metadata": {},
     "output_type": "execute_result"
    }
   ],
   "source": [
    "path = 'C:/Users/isaac/Dropbox/Apps/ShareLaTeX/information_lawyer_quality'\n",
    "\n",
    "# Read data \n",
    "data = pd.read_csv(path + '/_aux/hd_data.csv') \n",
    "#data = data.sample(frac=0.1, replace=True, random_state=1)\n",
    "print(data.shape)\n",
    "data.columns"
   ]
  },
  {
   "cell_type": "code",
   "execution_count": 3,
   "id": "657bb0f5",
   "metadata": {},
   "outputs": [
    {
     "data": {
      "text/html": [
       "<div>\n",
       "<style scoped>\n",
       "    .dataframe tbody tr th:only-of-type {\n",
       "        vertical-align: middle;\n",
       "    }\n",
       "\n",
       "    .dataframe tbody tr th {\n",
       "        vertical-align: top;\n",
       "    }\n",
       "\n",
       "    .dataframe thead th {\n",
       "        text-align: right;\n",
       "    }\n",
       "</style>\n",
       "<table border=\"1\" class=\"dataframe\">\n",
       "  <thead>\n",
       "    <tr style=\"text-align: right;\">\n",
       "      <th></th>\n",
       "      <th>reclutamiento</th>\n",
       "      <th>giro_empresa_d2</th>\n",
       "      <th>giro_empresa_d3</th>\n",
       "      <th>giro_empresa_d4</th>\n",
       "      <th>giro_empresa_d5</th>\n",
       "      <th>giro_empresa_d6</th>\n",
       "      <th>giro_empresa_d7</th>\n",
       "      <th>giro_empresa_d8</th>\n",
       "      <th>giro_empresa_d9</th>\n",
       "      <th>giro_empresa_d10</th>\n",
       "      <th>...</th>\n",
       "      <th>min_vac</th>\n",
       "      <th>min_prima_vac</th>\n",
       "      <th>min_ley</th>\n",
       "      <th>c_sal_caidos</th>\n",
       "      <th>prop_hextra</th>\n",
       "      <th>modo_termino</th>\n",
       "      <th>liq_total</th>\n",
       "      <th>liq_total_tope</th>\n",
       "      <th>liq_total_pos</th>\n",
       "      <th>duracion</th>\n",
       "    </tr>\n",
       "  </thead>\n",
       "  <tbody>\n",
       "    <tr>\n",
       "      <th>count</th>\n",
       "      <td>4997.000000</td>\n",
       "      <td>4998.000000</td>\n",
       "      <td>4998.000000</td>\n",
       "      <td>4998.000000</td>\n",
       "      <td>4998.000000</td>\n",
       "      <td>4998.000000</td>\n",
       "      <td>4998.000000</td>\n",
       "      <td>4998.000000</td>\n",
       "      <td>4998.000000</td>\n",
       "      <td>4998.000000</td>\n",
       "      <td>...</td>\n",
       "      <td>4871.000000</td>\n",
       "      <td>4871.000000</td>\n",
       "      <td>4.998000e+03</td>\n",
       "      <td>4.123000e+03</td>\n",
       "      <td>4984.000000</td>\n",
       "      <td>4998.000000</td>\n",
       "      <td>4.998000e+03</td>\n",
       "      <td>4.998000e+03</td>\n",
       "      <td>4998.000000</td>\n",
       "      <td>4998.000000</td>\n",
       "    </tr>\n",
       "    <tr>\n",
       "      <th>mean</th>\n",
       "      <td>0.192516</td>\n",
       "      <td>0.000400</td>\n",
       "      <td>0.000400</td>\n",
       "      <td>0.002601</td>\n",
       "      <td>0.034014</td>\n",
       "      <td>0.003601</td>\n",
       "      <td>0.007003</td>\n",
       "      <td>0.052621</td>\n",
       "      <td>0.232093</td>\n",
       "      <td>0.022809</td>\n",
       "      <td>...</td>\n",
       "      <td>1938.003057</td>\n",
       "      <td>484.500675</td>\n",
       "      <td>5.269175e+04</td>\n",
       "      <td>2.294548e+05</td>\n",
       "      <td>0.369944</td>\n",
       "      <td>1.605842</td>\n",
       "      <td>2.854584e+04</td>\n",
       "      <td>2.761328e+04</td>\n",
       "      <td>0.653661</td>\n",
       "      <td>1.021339</td>\n",
       "    </tr>\n",
       "    <tr>\n",
       "      <th>std</th>\n",
       "      <td>0.394315</td>\n",
       "      <td>0.020002</td>\n",
       "      <td>0.020002</td>\n",
       "      <td>0.050939</td>\n",
       "      <td>0.181282</td>\n",
       "      <td>0.059910</td>\n",
       "      <td>0.083398</td>\n",
       "      <td>0.223298</td>\n",
       "      <td>0.422210</td>\n",
       "      <td>0.149310</td>\n",
       "      <td>...</td>\n",
       "      <td>6396.703136</td>\n",
       "      <td>1599.175766</td>\n",
       "      <td>1.089357e+05</td>\n",
       "      <td>5.586934e+05</td>\n",
       "      <td>0.314853</td>\n",
       "      <td>0.933609</td>\n",
       "      <td>1.400880e+05</td>\n",
       "      <td>1.275581e+05</td>\n",
       "      <td>0.475850</td>\n",
       "      <td>0.958674</td>\n",
       "    </tr>\n",
       "    <tr>\n",
       "      <th>min</th>\n",
       "      <td>0.000000</td>\n",
       "      <td>0.000000</td>\n",
       "      <td>0.000000</td>\n",
       "      <td>0.000000</td>\n",
       "      <td>0.000000</td>\n",
       "      <td>0.000000</td>\n",
       "      <td>0.000000</td>\n",
       "      <td>0.000000</td>\n",
       "      <td>0.000000</td>\n",
       "      <td>0.000000</td>\n",
       "      <td>...</td>\n",
       "      <td>0.990000</td>\n",
       "      <td>0.250000</td>\n",
       "      <td>0.000000e+00</td>\n",
       "      <td>1.394670e+03</td>\n",
       "      <td>0.000000</td>\n",
       "      <td>1.000000</td>\n",
       "      <td>0.000000e+00</td>\n",
       "      <td>0.000000e+00</td>\n",
       "      <td>0.000000</td>\n",
       "      <td>0.005479</td>\n",
       "    </tr>\n",
       "    <tr>\n",
       "      <th>25%</th>\n",
       "      <td>0.000000</td>\n",
       "      <td>0.000000</td>\n",
       "      <td>0.000000</td>\n",
       "      <td>0.000000</td>\n",
       "      <td>0.000000</td>\n",
       "      <td>0.000000</td>\n",
       "      <td>0.000000</td>\n",
       "      <td>0.000000</td>\n",
       "      <td>0.000000</td>\n",
       "      <td>0.000000</td>\n",
       "      <td>...</td>\n",
       "      <td>352.628555</td>\n",
       "      <td>88.155888</td>\n",
       "      <td>2.044597e+04</td>\n",
       "      <td>7.340045e+04</td>\n",
       "      <td>0.000000</td>\n",
       "      <td>1.000000</td>\n",
       "      <td>0.000000e+00</td>\n",
       "      <td>0.000000e+00</td>\n",
       "      <td>0.000000</td>\n",
       "      <td>0.331507</td>\n",
       "    </tr>\n",
       "    <tr>\n",
       "      <th>50%</th>\n",
       "      <td>0.000000</td>\n",
       "      <td>0.000000</td>\n",
       "      <td>0.000000</td>\n",
       "      <td>0.000000</td>\n",
       "      <td>0.000000</td>\n",
       "      <td>0.000000</td>\n",
       "      <td>0.000000</td>\n",
       "      <td>0.000000</td>\n",
       "      <td>0.000000</td>\n",
       "      <td>0.000000</td>\n",
       "      <td>...</td>\n",
       "      <td>848.219970</td>\n",
       "      <td>212.050000</td>\n",
       "      <td>3.172866e+04</td>\n",
       "      <td>1.178750e+05</td>\n",
       "      <td>0.394096</td>\n",
       "      <td>1.000000</td>\n",
       "      <td>8.000000e+03</td>\n",
       "      <td>8.000000e+03</td>\n",
       "      <td>1.000000</td>\n",
       "      <td>0.697260</td>\n",
       "    </tr>\n",
       "    <tr>\n",
       "      <th>75%</th>\n",
       "      <td>0.000000</td>\n",
       "      <td>0.000000</td>\n",
       "      <td>0.000000</td>\n",
       "      <td>0.000000</td>\n",
       "      <td>0.000000</td>\n",
       "      <td>0.000000</td>\n",
       "      <td>0.000000</td>\n",
       "      <td>0.000000</td>\n",
       "      <td>0.000000</td>\n",
       "      <td>0.000000</td>\n",
       "      <td>...</td>\n",
       "      <td>1867.498600</td>\n",
       "      <td>466.874645</td>\n",
       "      <td>5.436342e+04</td>\n",
       "      <td>2.186237e+05</td>\n",
       "      <td>0.641515</td>\n",
       "      <td>2.000000</td>\n",
       "      <td>2.073375e+04</td>\n",
       "      <td>2.073375e+04</td>\n",
       "      <td>1.000000</td>\n",
       "      <td>1.400000</td>\n",
       "    </tr>\n",
       "    <tr>\n",
       "      <th>max</th>\n",
       "      <td>1.000000</td>\n",
       "      <td>1.000000</td>\n",
       "      <td>1.000000</td>\n",
       "      <td>1.000000</td>\n",
       "      <td>1.000000</td>\n",
       "      <td>1.000000</td>\n",
       "      <td>1.000000</td>\n",
       "      <td>1.000000</td>\n",
       "      <td>1.000000</td>\n",
       "      <td>1.000000</td>\n",
       "      <td>...</td>\n",
       "      <td>213154.980000</td>\n",
       "      <td>53288.746000</td>\n",
       "      <td>4.449881e+06</td>\n",
       "      <td>2.005620e+07</td>\n",
       "      <td>0.996460</td>\n",
       "      <td>4.000000</td>\n",
       "      <td>6.700000e+06</td>\n",
       "      <td>5.600418e+06</td>\n",
       "      <td>1.000000</td>\n",
       "      <td>4.960000</td>\n",
       "    </tr>\n",
       "  </tbody>\n",
       "</table>\n",
       "<p>8 rows × 77 columns</p>\n",
       "</div>"
      ],
      "text/plain": [
       "       reclutamiento  giro_empresa_d2  giro_empresa_d3  giro_empresa_d4  \\\n",
       "count    4997.000000      4998.000000      4998.000000      4998.000000   \n",
       "mean        0.192516         0.000400         0.000400         0.002601   \n",
       "std         0.394315         0.020002         0.020002         0.050939   \n",
       "min         0.000000         0.000000         0.000000         0.000000   \n",
       "25%         0.000000         0.000000         0.000000         0.000000   \n",
       "50%         0.000000         0.000000         0.000000         0.000000   \n",
       "75%         0.000000         0.000000         0.000000         0.000000   \n",
       "max         1.000000         1.000000         1.000000         1.000000   \n",
       "\n",
       "       giro_empresa_d5  giro_empresa_d6  giro_empresa_d7  giro_empresa_d8  \\\n",
       "count      4998.000000      4998.000000      4998.000000      4998.000000   \n",
       "mean          0.034014         0.003601         0.007003         0.052621   \n",
       "std           0.181282         0.059910         0.083398         0.223298   \n",
       "min           0.000000         0.000000         0.000000         0.000000   \n",
       "25%           0.000000         0.000000         0.000000         0.000000   \n",
       "50%           0.000000         0.000000         0.000000         0.000000   \n",
       "75%           0.000000         0.000000         0.000000         0.000000   \n",
       "max           1.000000         1.000000         1.000000         1.000000   \n",
       "\n",
       "       giro_empresa_d9  giro_empresa_d10  ...        min_vac  min_prima_vac  \\\n",
       "count      4998.000000       4998.000000  ...    4871.000000    4871.000000   \n",
       "mean          0.232093          0.022809  ...    1938.003057     484.500675   \n",
       "std           0.422210          0.149310  ...    6396.703136    1599.175766   \n",
       "min           0.000000          0.000000  ...       0.990000       0.250000   \n",
       "25%           0.000000          0.000000  ...     352.628555      88.155888   \n",
       "50%           0.000000          0.000000  ...     848.219970     212.050000   \n",
       "75%           0.000000          0.000000  ...    1867.498600     466.874645   \n",
       "max           1.000000          1.000000  ...  213154.980000   53288.746000   \n",
       "\n",
       "            min_ley  c_sal_caidos  prop_hextra  modo_termino     liq_total  \\\n",
       "count  4.998000e+03  4.123000e+03  4984.000000   4998.000000  4.998000e+03   \n",
       "mean   5.269175e+04  2.294548e+05     0.369944      1.605842  2.854584e+04   \n",
       "std    1.089357e+05  5.586934e+05     0.314853      0.933609  1.400880e+05   \n",
       "min    0.000000e+00  1.394670e+03     0.000000      1.000000  0.000000e+00   \n",
       "25%    2.044597e+04  7.340045e+04     0.000000      1.000000  0.000000e+00   \n",
       "50%    3.172866e+04  1.178750e+05     0.394096      1.000000  8.000000e+03   \n",
       "75%    5.436342e+04  2.186237e+05     0.641515      2.000000  2.073375e+04   \n",
       "max    4.449881e+06  2.005620e+07     0.996460      4.000000  6.700000e+06   \n",
       "\n",
       "       liq_total_tope  liq_total_pos     duracion  \n",
       "count    4.998000e+03    4998.000000  4998.000000  \n",
       "mean     2.761328e+04       0.653661     1.021339  \n",
       "std      1.275581e+05       0.475850     0.958674  \n",
       "min      0.000000e+00       0.000000     0.005479  \n",
       "25%      0.000000e+00       0.000000     0.331507  \n",
       "50%      8.000000e+03       1.000000     0.697260  \n",
       "75%      2.073375e+04       1.000000     1.400000  \n",
       "max      5.600418e+06       1.000000     4.960000  \n",
       "\n",
       "[8 rows x 77 columns]"
      ]
     },
     "execution_count": 3,
     "metadata": {},
     "output_type": "execute_result"
    }
   ],
   "source": [
    "data.describe()"
   ]
  },
  {
   "cell_type": "code",
   "execution_count": 27,
   "id": "518e2da0",
   "metadata": {},
   "outputs": [],
   "source": [
    "X = data[['reclutamiento',\n",
    "'trabajador_base',\n",
    "'gen',\n",
    "'tipo_jornada_d2',\n",
    "'tipo_jornada_d3',\n",
    "'tipo_jornada_d4',\n",
    "'reinst',\n",
    "'indem',\n",
    "'sal_caidos',\n",
    "'prima_antig',\n",
    "'prima_vac',\n",
    "'hextra',\n",
    "'rec20',\n",
    "'prima_dom',\n",
    "'desc_sem',\n",
    "'desc_ob',\n",
    "'sarimssinf',\n",
    "'utilidades',\n",
    "'monto_recsueldo',\n",
    "'nulidad',\n",
    "'vac',\n",
    "'ag',\n",
    "'codem',\n",
    "'horas_extra',\n",
    "'antiguedad',\n",
    "'salario_diario',\n",
    "'horas_sem',\n",
    "'c_antiguedad',\n",
    "'c_indem',\n",
    "'c_prima_antig',\n",
    "'c_rec20',\n",
    "'c_ag',\n",
    "'c_vac',\n",
    "'c_hextra',\n",
    "'c_prima_vac',\n",
    "'c_prima_dom',\n",
    "'c_desc_sem',\n",
    "'c_desc_ob',\n",
    "'c_utilidades',\n",
    "'c_recsueldo',\n",
    "'c_total',\n",
    "'min_indem',\n",
    "'min_prima_antig',\n",
    "'min_ag',\n",
    "'min_vac',\n",
    "'min_prima_vac',\n",
    "'min_ley',\n",
    "'c_sal_caidos',\n",
    "'prop_hextra'\n",
    "]]\n",
    "\n",
    "\n",
    "sett = data['modo_termino']==1\n",
    "sett.astype('int64')\n",
    "cr_win = (data['modo_termino']==3) & (data['liq_total_pos']==1)\n",
    "cr_win.astype('int64')\n",
    "cr_los = (data['modo_termino']==3) & (data['liq_total_pos']==0)\n",
    "cr_los.astype('int64')\n",
    "\n",
    "X_3 = X[data['modo_termino']==3] \n",
    "rslt_df3 = data.loc[data['modo_termino']==3]\n",
    "cr_win_ph2 = rslt_df3['liq_total_pos']==1\n",
    "cr_win_ph2.astype('int64')\n",
    "\n",
    "\n",
    "X_1 = X[data['modo_termino']==1]\n",
    "rslt_df1 = data.loc[data['modo_termino']==1]\n",
    "tot_comp_1l = np.log(rslt_df1['liq_total_tope']+1)\n",
    "\n",
    "tot_comp_3l = np.log(rslt_df3['liq_total_tope']+1)\n",
    "\n",
    "tot_comp_3 = rslt_df3['liq_total_tope']\n"
   ]
  },
  {
   "cell_type": "code",
   "execution_count": 28,
   "id": "b0f58ac8",
   "metadata": {},
   "outputs": [
    {
     "data": {
      "text/plain": [
       "49859.32306944444"
      ]
     },
     "execution_count": 28,
     "metadata": {},
     "output_type": "execute_result"
    }
   ],
   "source": [
    "np.mean(tot_comp_3)\n"
   ]
  },
  {
   "cell_type": "code",
   "execution_count": 29,
   "id": "a0e1c3c9",
   "metadata": {},
   "outputs": [],
   "source": [
    "numeric_featuresX = ['antiguedad',\n",
    "'salario_diario',\n",
    "'horas_sem',\n",
    "'c_antiguedad',\n",
    "'c_indem',\n",
    "'c_prima_antig',\n",
    "'c_rec20',\n",
    "'c_ag',\n",
    "'c_vac',\n",
    "'c_hextra',\n",
    "'c_prima_vac',\n",
    "'c_prima_dom',\n",
    "'c_desc_sem',\n",
    "'c_desc_ob',\n",
    "'c_utilidades',\n",
    "'c_recsueldo',\n",
    "'c_total',\n",
    "'min_indem',\n",
    "'min_prima_antig',\n",
    "'min_ag',\n",
    "'min_vac',\n",
    "'min_prima_vac',\n",
    "'min_ley',\n",
    "'c_sal_caidos',\n",
    "'prop_hextra']\n",
    "\n",
    "numeric_transformer = Pipeline(steps=[\n",
    "    ('imputer', SimpleImputer(strategy='median')),\n",
    "    ('polynomial', PolynomialFeatures(degree=2, include_bias=False)),\n",
    "    ('scaler', StandardScaler())])\n",
    "\n",
    "\n",
    "\n",
    "\n",
    "binary_featuresX = ['reclutamiento',\n",
    "'trabajador_base',\n",
    "'gen',\n",
    "'tipo_jornada_d2',\n",
    "'tipo_jornada_d3',\n",
    "'tipo_jornada_d4',\n",
    "'reinst',\n",
    "'indem',\n",
    "'sal_caidos',\n",
    "'prima_antig',\n",
    "'prima_vac',\n",
    "'hextra',\n",
    "'rec20',\n",
    "'prima_dom',\n",
    "'desc_sem',\n",
    "'desc_ob',\n",
    "'sarimssinf',\n",
    "'utilidades',\n",
    "'monto_recsueldo',\n",
    "'nulidad',\n",
    "'vac',\n",
    "'ag',\n",
    "'codem',\n",
    "'horas_extra']\n",
    "\n",
    "binary_transformer = Pipeline(steps=[\n",
    "    ('imputer', SimpleImputer(strategy='median')),\n",
    "    ('polynomial', PolynomialFeatures(degree=1, include_bias=False))])\n",
    "\n",
    "\n",
    "preprocessor = ColumnTransformer(\n",
    "    transformers=[\n",
    "        ('num', numeric_transformer, numeric_featuresX),\n",
    "        ('bin', binary_transformer, binary_featuresX)])\n"
   ]
  },
  {
   "cell_type": "code",
   "execution_count": 30,
   "id": "aca25bc2",
   "metadata": {},
   "outputs": [],
   "source": [
    "from sklearn.model_selection import train_test_split\n",
    "\n",
    "[X_train, X_test, sett_train, sett_test, cr_los_train, cr_los_test,\n",
    " cr_win_train, cr_win_test] = train_test_split(X, sett, cr_los, cr_win, test_size=0.2, random_state=0)\n",
    "\n",
    "\n",
    "[X_1_train, X_1_test, tot_comp_1l_train, tot_comp_1l_test] = train_test_split( X_1, tot_comp_1l, \n",
    "                                                                  test_size=0.2, random_state=0)\n",
    "\n",
    "\n",
    "[X_3_train, X_3_test, cr_win_ph2_train, cr_win_ph2_test,\n",
    "tot_comp_3l_train, tot_comp_3l_test,tot_comp_3_train, tot_comp_3_test] = train_test_split( X_3, cr_win_ph2, \n",
    "                                                                                          tot_comp_3l, tot_comp_3, \n",
    "                                                                  test_size=0.2, random_state=0)"
   ]
  },
  {
   "cell_type": "code",
   "execution_count": null,
   "id": "9ed55188",
   "metadata": {
    "scrolled": true
   },
   "outputs": [],
   "source": [
    "from sklearn.linear_model import LogisticRegression\n",
    "# Hyperparameters - grid\n",
    "# ==============================================================================\n",
    "param_grid = {'model__penalty'  : ['l1', 'l2', 'elasticnet'],\n",
    "              'model__C'     : [0.0001, 0.001, 0.01, 0.1, 1, 10, 20]\n",
    "             }\n",
    "\n",
    "\n",
    "logit_est = LogisticRegression(random_state = 0,\n",
    "                              max_iter = 10000)\n",
    "\n",
    "# Logit Model\n",
    "LOGIT = Pipeline(steps=[('preprocessor', preprocessor),\n",
    "                      ('model', logit_est)])\n",
    "\n",
    "\n",
    "# Grid search by cross-validation\n",
    "# ==============================================================================\n",
    "grid = GridSearchCV(LOGIT,\n",
    "        param_grid = param_grid,\n",
    "        scoring    = 'f1_weighted',\n",
    "        n_jobs     = multiprocessing.cpu_count() - 1,\n",
    "        cv         = RepeatedKFold(n_splits=5, n_repeats=3, random_state=123), \n",
    "        refit      = True,\n",
    "        verbose    = 0,\n",
    "        return_train_score = True\n",
    "       )\n",
    "\n",
    "# Recover the best model\n",
    "grid.fit(X_train, sett_train)\n",
    "model_sett = grid.best_estimator_\n",
    "pr_sett = model_sett.predict_proba(X_test)[:,1]\n"
   ]
  },
  {
   "cell_type": "code",
   "execution_count": null,
   "id": "73e91c13",
   "metadata": {},
   "outputs": [],
   "source": [
    "pr_sett = model_sett.predict_proba(X_train)[:,1]"
   ]
  },
  {
   "cell_type": "code",
   "execution_count": null,
   "id": "b41f5613",
   "metadata": {},
   "outputs": [],
   "source": [
    "    cor = np.corrcoef(sett_train, pr_sett)\n",
    "    cor\n",
    "    "
   ]
  },
  {
   "cell_type": "code",
   "execution_count": 70,
   "id": "e0eb856b",
   "metadata": {},
   "outputs": [
    {
     "data": {
      "text/plain": [
       "0.521449991889526"
      ]
     },
     "execution_count": 70,
     "metadata": {},
     "output_type": "execute_result"
    }
   ],
   "source": [
    "    fpr, tpr, thresholds = metrics.roc_curve(sett_train, pr_sett, pos_label=1)\n",
    "    metrics.auc(fpr, tpr)\n",
    "    "
   ]
  },
  {
   "cell_type": "code",
   "execution_count": 71,
   "id": "96f09eff",
   "metadata": {},
   "outputs": [
    {
     "data": {
      "text/plain": [
       "0.39269634817408705"
      ]
     },
     "execution_count": 71,
     "metadata": {},
     "output_type": "execute_result"
    }
   ],
   "source": [
    "accuracy_score(sett_train, np.round(pr_sett))"
   ]
  },
  {
   "cell_type": "code",
   "execution_count": 81,
   "id": "08eb5ad5",
   "metadata": {},
   "outputs": [],
   "source": [
    "from sklearn.ensemble import RandomForestClassifier\n",
    "# Grid de hiperparámetros evaluados\n",
    "# ==============================================================================\n",
    "\n",
    "\n",
    "RFC = Pipeline(steps=[('preprocessor', preprocessor),\n",
    "                      ('model', RandomForestClassifier(random_state=123, n_estimators=500))])\n",
    "\n",
    "\n",
    "\n",
    "\n",
    "# Recover the best model\n",
    "\n",
    "model_cr_win = RFC.fit(X_train, cr_win_train)\n",
    "pr_cr_win = model_cr_win.predict_proba(X_test)[:,1]\n",
    "\n",
    "\n",
    "model_cr_los = RFC.fit(X_train, cr_los_train)\n",
    "pr_cr_los = model_cr_los.predict_proba(X_test)[:,1]\n",
    "\n",
    "model_cr_win_ph2 = RFC.fit(X_3_train, cr_win_ph2_train)\n",
    "pr_cr_win_ph2 = model_cr_win_ph2.predict_proba(X_3_test)[:,1]\n"
   ]
  },
  {
   "cell_type": "code",
   "execution_count": 142,
   "id": "b367c679",
   "metadata": {},
   "outputs": [
    {
     "data": {
      "text/plain": [
       "0.06578289144572286"
      ]
     },
     "execution_count": 142,
     "metadata": {},
     "output_type": "execute_result"
    }
   ],
   "source": [
    "np.mean(cr_los_train)"
   ]
  },
  {
   "cell_type": "code",
   "execution_count": 145,
   "id": "6b22a11d",
   "metadata": {},
   "outputs": [],
   "source": [
    "pr = model_cr_los.predict_proba(X_train)[:,1]"
   ]
  },
  {
   "cell_type": "code",
   "execution_count": 146,
   "id": "7361616e",
   "metadata": {},
   "outputs": [
    {
     "data": {
      "text/plain": [
       "array([[ 1.        , -0.27854806],\n",
       "       [-0.27854806,  1.        ]])"
      ]
     },
     "execution_count": 146,
     "metadata": {},
     "output_type": "execute_result"
    }
   ],
   "source": [
    "    cor = np.corrcoef(cr_los_train, pr)\n",
    "    cor"
   ]
  },
  {
   "cell_type": "code",
   "execution_count": 138,
   "id": "53e60d26",
   "metadata": {},
   "outputs": [
    {
     "data": {
      "text/plain": [
       "0.9536966463414633"
      ]
     },
     "execution_count": 138,
     "metadata": {},
     "output_type": "execute_result"
    }
   ],
   "source": [
    "fpr, tpr, thresholds = metrics.roc_curve(cr_win_test, pr, pos_label=1)\n",
    "metrics.auc(fpr, tpr)"
   ]
  },
  {
   "cell_type": "code",
   "execution_count": 139,
   "id": "4c026498",
   "metadata": {},
   "outputs": [
    {
     "data": {
      "text/plain": [
       "0.952"
      ]
     },
     "execution_count": 139,
     "metadata": {},
     "output_type": "execute_result"
    }
   ],
   "source": [
    "accuracy_score(cr_win_test, np.round(pr))"
   ]
  },
  {
   "cell_type": "code",
   "execution_count": 141,
   "id": "68912a25",
   "metadata": {},
   "outputs": [
    {
     "data": {
      "text/plain": [
       "0.9653458802932487"
      ]
     },
     "execution_count": 141,
     "metadata": {},
     "output_type": "execute_result"
    }
   ],
   "source": [
    "from sklearn.metrics import f1_score\n",
    "f1_score(cr_win_test, np.round(pr), average='weighted')"
   ]
  },
  {
   "cell_type": "code",
   "execution_count": 79,
   "id": "b31cf3b6",
   "metadata": {},
   "outputs": [
    {
     "ename": "KeyboardInterrupt",
     "evalue": "",
     "output_type": "error",
     "traceback": [
      "\u001b[1;31m---------------------------------------------------------------------------\u001b[0m",
      "\u001b[1;31mKeyboardInterrupt\u001b[0m                         Traceback (most recent call last)",
      "\u001b[1;32m<ipython-input-79-0dc22bca287b>\u001b[0m in \u001b[0;36m<module>\u001b[1;34m\u001b[0m\n\u001b[0;32m     11\u001b[0m \u001b[1;33m\u001b[0m\u001b[0m\n\u001b[0;32m     12\u001b[0m \u001b[1;31m# Recover the best model\u001b[0m\u001b[1;33m\u001b[0m\u001b[1;33m\u001b[0m\u001b[1;33m\u001b[0m\u001b[0m\n\u001b[1;32m---> 13\u001b[1;33m \u001b[0mmodel_tot_comp_1lrf\u001b[0m \u001b[1;33m=\u001b[0m \u001b[0mRFX\u001b[0m\u001b[1;33m.\u001b[0m\u001b[0mfit\u001b[0m\u001b[1;33m(\u001b[0m\u001b[0mX_1_train\u001b[0m\u001b[1;33m,\u001b[0m \u001b[0mtot_comp_1l_train\u001b[0m\u001b[1;33m)\u001b[0m\u001b[1;33m\u001b[0m\u001b[1;33m\u001b[0m\u001b[0m\n\u001b[0m\u001b[0;32m     14\u001b[0m \u001b[0mpr_tot_comp_1lrf\u001b[0m \u001b[1;33m=\u001b[0m \u001b[0mmodel_tot_comp_1lrf\u001b[0m\u001b[1;33m.\u001b[0m\u001b[0mpredict\u001b[0m\u001b[1;33m(\u001b[0m\u001b[0mX_1_train\u001b[0m\u001b[1;33m)\u001b[0m\u001b[1;33m\u001b[0m\u001b[1;33m\u001b[0m\u001b[0m\n",
      "\u001b[1;32m~\\anaconda3\\lib\\site-packages\\sklearn\\pipeline.py\u001b[0m in \u001b[0;36mfit\u001b[1;34m(self, X, y, **fit_params)\u001b[0m\n\u001b[0;32m    344\u001b[0m             \u001b[1;32mif\u001b[0m \u001b[0mself\u001b[0m\u001b[1;33m.\u001b[0m\u001b[0m_final_estimator\u001b[0m \u001b[1;33m!=\u001b[0m \u001b[1;34m'passthrough'\u001b[0m\u001b[1;33m:\u001b[0m\u001b[1;33m\u001b[0m\u001b[1;33m\u001b[0m\u001b[0m\n\u001b[0;32m    345\u001b[0m                 \u001b[0mfit_params_last_step\u001b[0m \u001b[1;33m=\u001b[0m \u001b[0mfit_params_steps\u001b[0m\u001b[1;33m[\u001b[0m\u001b[0mself\u001b[0m\u001b[1;33m.\u001b[0m\u001b[0msteps\u001b[0m\u001b[1;33m[\u001b[0m\u001b[1;33m-\u001b[0m\u001b[1;36m1\u001b[0m\u001b[1;33m]\u001b[0m\u001b[1;33m[\u001b[0m\u001b[1;36m0\u001b[0m\u001b[1;33m]\u001b[0m\u001b[1;33m]\u001b[0m\u001b[1;33m\u001b[0m\u001b[1;33m\u001b[0m\u001b[0m\n\u001b[1;32m--> 346\u001b[1;33m                 \u001b[0mself\u001b[0m\u001b[1;33m.\u001b[0m\u001b[0m_final_estimator\u001b[0m\u001b[1;33m.\u001b[0m\u001b[0mfit\u001b[0m\u001b[1;33m(\u001b[0m\u001b[0mXt\u001b[0m\u001b[1;33m,\u001b[0m \u001b[0my\u001b[0m\u001b[1;33m,\u001b[0m \u001b[1;33m**\u001b[0m\u001b[0mfit_params_last_step\u001b[0m\u001b[1;33m)\u001b[0m\u001b[1;33m\u001b[0m\u001b[1;33m\u001b[0m\u001b[0m\n\u001b[0m\u001b[0;32m    347\u001b[0m \u001b[1;33m\u001b[0m\u001b[0m\n\u001b[0;32m    348\u001b[0m         \u001b[1;32mreturn\u001b[0m \u001b[0mself\u001b[0m\u001b[1;33m\u001b[0m\u001b[1;33m\u001b[0m\u001b[0m\n",
      "\u001b[1;32m~\\anaconda3\\lib\\site-packages\\sklearn\\ensemble\\_forest.py\u001b[0m in \u001b[0;36mfit\u001b[1;34m(self, X, y, sample_weight)\u001b[0m\n\u001b[0;32m    385\u001b[0m             \u001b[1;31m# parallel_backend contexts set at a higher level,\u001b[0m\u001b[1;33m\u001b[0m\u001b[1;33m\u001b[0m\u001b[1;33m\u001b[0m\u001b[0m\n\u001b[0;32m    386\u001b[0m             \u001b[1;31m# since correctness does not rely on using threads.\u001b[0m\u001b[1;33m\u001b[0m\u001b[1;33m\u001b[0m\u001b[1;33m\u001b[0m\u001b[0m\n\u001b[1;32m--> 387\u001b[1;33m             trees = Parallel(n_jobs=self.n_jobs, verbose=self.verbose,\n\u001b[0m\u001b[0;32m    388\u001b[0m                              \u001b[1;33m**\u001b[0m\u001b[0m_joblib_parallel_args\u001b[0m\u001b[1;33m(\u001b[0m\u001b[0mprefer\u001b[0m\u001b[1;33m=\u001b[0m\u001b[1;34m'threads'\u001b[0m\u001b[1;33m)\u001b[0m\u001b[1;33m)\u001b[0m\u001b[1;33m(\u001b[0m\u001b[1;33m\u001b[0m\u001b[1;33m\u001b[0m\u001b[0m\n\u001b[0;32m    389\u001b[0m                 delayed(_parallel_build_trees)(\n",
      "\u001b[1;32m~\\anaconda3\\lib\\site-packages\\joblib\\parallel.py\u001b[0m in \u001b[0;36m__call__\u001b[1;34m(self, iterable)\u001b[0m\n\u001b[0;32m   1042\u001b[0m                 \u001b[0mself\u001b[0m\u001b[1;33m.\u001b[0m\u001b[0m_iterating\u001b[0m \u001b[1;33m=\u001b[0m \u001b[0mself\u001b[0m\u001b[1;33m.\u001b[0m\u001b[0m_original_iterator\u001b[0m \u001b[1;32mis\u001b[0m \u001b[1;32mnot\u001b[0m \u001b[1;32mNone\u001b[0m\u001b[1;33m\u001b[0m\u001b[1;33m\u001b[0m\u001b[0m\n\u001b[0;32m   1043\u001b[0m \u001b[1;33m\u001b[0m\u001b[0m\n\u001b[1;32m-> 1044\u001b[1;33m             \u001b[1;32mwhile\u001b[0m \u001b[0mself\u001b[0m\u001b[1;33m.\u001b[0m\u001b[0mdispatch_one_batch\u001b[0m\u001b[1;33m(\u001b[0m\u001b[0miterator\u001b[0m\u001b[1;33m)\u001b[0m\u001b[1;33m:\u001b[0m\u001b[1;33m\u001b[0m\u001b[1;33m\u001b[0m\u001b[0m\n\u001b[0m\u001b[0;32m   1045\u001b[0m                 \u001b[1;32mpass\u001b[0m\u001b[1;33m\u001b[0m\u001b[1;33m\u001b[0m\u001b[0m\n\u001b[0;32m   1046\u001b[0m \u001b[1;33m\u001b[0m\u001b[0m\n",
      "\u001b[1;32m~\\anaconda3\\lib\\site-packages\\joblib\\parallel.py\u001b[0m in \u001b[0;36mdispatch_one_batch\u001b[1;34m(self, iterator)\u001b[0m\n\u001b[0;32m    857\u001b[0m                 \u001b[1;32mreturn\u001b[0m \u001b[1;32mFalse\u001b[0m\u001b[1;33m\u001b[0m\u001b[1;33m\u001b[0m\u001b[0m\n\u001b[0;32m    858\u001b[0m             \u001b[1;32melse\u001b[0m\u001b[1;33m:\u001b[0m\u001b[1;33m\u001b[0m\u001b[1;33m\u001b[0m\u001b[0m\n\u001b[1;32m--> 859\u001b[1;33m                 \u001b[0mself\u001b[0m\u001b[1;33m.\u001b[0m\u001b[0m_dispatch\u001b[0m\u001b[1;33m(\u001b[0m\u001b[0mtasks\u001b[0m\u001b[1;33m)\u001b[0m\u001b[1;33m\u001b[0m\u001b[1;33m\u001b[0m\u001b[0m\n\u001b[0m\u001b[0;32m    860\u001b[0m                 \u001b[1;32mreturn\u001b[0m \u001b[1;32mTrue\u001b[0m\u001b[1;33m\u001b[0m\u001b[1;33m\u001b[0m\u001b[0m\n\u001b[0;32m    861\u001b[0m \u001b[1;33m\u001b[0m\u001b[0m\n",
      "\u001b[1;32m~\\anaconda3\\lib\\site-packages\\joblib\\parallel.py\u001b[0m in \u001b[0;36m_dispatch\u001b[1;34m(self, batch)\u001b[0m\n\u001b[0;32m    775\u001b[0m         \u001b[1;32mwith\u001b[0m \u001b[0mself\u001b[0m\u001b[1;33m.\u001b[0m\u001b[0m_lock\u001b[0m\u001b[1;33m:\u001b[0m\u001b[1;33m\u001b[0m\u001b[1;33m\u001b[0m\u001b[0m\n\u001b[0;32m    776\u001b[0m             \u001b[0mjob_idx\u001b[0m \u001b[1;33m=\u001b[0m \u001b[0mlen\u001b[0m\u001b[1;33m(\u001b[0m\u001b[0mself\u001b[0m\u001b[1;33m.\u001b[0m\u001b[0m_jobs\u001b[0m\u001b[1;33m)\u001b[0m\u001b[1;33m\u001b[0m\u001b[1;33m\u001b[0m\u001b[0m\n\u001b[1;32m--> 777\u001b[1;33m             \u001b[0mjob\u001b[0m \u001b[1;33m=\u001b[0m \u001b[0mself\u001b[0m\u001b[1;33m.\u001b[0m\u001b[0m_backend\u001b[0m\u001b[1;33m.\u001b[0m\u001b[0mapply_async\u001b[0m\u001b[1;33m(\u001b[0m\u001b[0mbatch\u001b[0m\u001b[1;33m,\u001b[0m \u001b[0mcallback\u001b[0m\u001b[1;33m=\u001b[0m\u001b[0mcb\u001b[0m\u001b[1;33m)\u001b[0m\u001b[1;33m\u001b[0m\u001b[1;33m\u001b[0m\u001b[0m\n\u001b[0m\u001b[0;32m    778\u001b[0m             \u001b[1;31m# A job can complete so quickly than its callback is\u001b[0m\u001b[1;33m\u001b[0m\u001b[1;33m\u001b[0m\u001b[1;33m\u001b[0m\u001b[0m\n\u001b[0;32m    779\u001b[0m             \u001b[1;31m# called before we get here, causing self._jobs to\u001b[0m\u001b[1;33m\u001b[0m\u001b[1;33m\u001b[0m\u001b[1;33m\u001b[0m\u001b[0m\n",
      "\u001b[1;32m~\\anaconda3\\lib\\site-packages\\joblib\\_parallel_backends.py\u001b[0m in \u001b[0;36mapply_async\u001b[1;34m(self, func, callback)\u001b[0m\n\u001b[0;32m    206\u001b[0m     \u001b[1;32mdef\u001b[0m \u001b[0mapply_async\u001b[0m\u001b[1;33m(\u001b[0m\u001b[0mself\u001b[0m\u001b[1;33m,\u001b[0m \u001b[0mfunc\u001b[0m\u001b[1;33m,\u001b[0m \u001b[0mcallback\u001b[0m\u001b[1;33m=\u001b[0m\u001b[1;32mNone\u001b[0m\u001b[1;33m)\u001b[0m\u001b[1;33m:\u001b[0m\u001b[1;33m\u001b[0m\u001b[1;33m\u001b[0m\u001b[0m\n\u001b[0;32m    207\u001b[0m         \u001b[1;34m\"\"\"Schedule a func to be run\"\"\"\u001b[0m\u001b[1;33m\u001b[0m\u001b[1;33m\u001b[0m\u001b[0m\n\u001b[1;32m--> 208\u001b[1;33m         \u001b[0mresult\u001b[0m \u001b[1;33m=\u001b[0m \u001b[0mImmediateResult\u001b[0m\u001b[1;33m(\u001b[0m\u001b[0mfunc\u001b[0m\u001b[1;33m)\u001b[0m\u001b[1;33m\u001b[0m\u001b[1;33m\u001b[0m\u001b[0m\n\u001b[0m\u001b[0;32m    209\u001b[0m         \u001b[1;32mif\u001b[0m \u001b[0mcallback\u001b[0m\u001b[1;33m:\u001b[0m\u001b[1;33m\u001b[0m\u001b[1;33m\u001b[0m\u001b[0m\n\u001b[0;32m    210\u001b[0m             \u001b[0mcallback\u001b[0m\u001b[1;33m(\u001b[0m\u001b[0mresult\u001b[0m\u001b[1;33m)\u001b[0m\u001b[1;33m\u001b[0m\u001b[1;33m\u001b[0m\u001b[0m\n",
      "\u001b[1;32m~\\anaconda3\\lib\\site-packages\\joblib\\_parallel_backends.py\u001b[0m in \u001b[0;36m__init__\u001b[1;34m(self, batch)\u001b[0m\n\u001b[0;32m    570\u001b[0m         \u001b[1;31m# Don't delay the application, to avoid keeping the input\u001b[0m\u001b[1;33m\u001b[0m\u001b[1;33m\u001b[0m\u001b[1;33m\u001b[0m\u001b[0m\n\u001b[0;32m    571\u001b[0m         \u001b[1;31m# arguments in memory\u001b[0m\u001b[1;33m\u001b[0m\u001b[1;33m\u001b[0m\u001b[1;33m\u001b[0m\u001b[0m\n\u001b[1;32m--> 572\u001b[1;33m         \u001b[0mself\u001b[0m\u001b[1;33m.\u001b[0m\u001b[0mresults\u001b[0m \u001b[1;33m=\u001b[0m \u001b[0mbatch\u001b[0m\u001b[1;33m(\u001b[0m\u001b[1;33m)\u001b[0m\u001b[1;33m\u001b[0m\u001b[1;33m\u001b[0m\u001b[0m\n\u001b[0m\u001b[0;32m    573\u001b[0m \u001b[1;33m\u001b[0m\u001b[0m\n\u001b[0;32m    574\u001b[0m     \u001b[1;32mdef\u001b[0m \u001b[0mget\u001b[0m\u001b[1;33m(\u001b[0m\u001b[0mself\u001b[0m\u001b[1;33m)\u001b[0m\u001b[1;33m:\u001b[0m\u001b[1;33m\u001b[0m\u001b[1;33m\u001b[0m\u001b[0m\n",
      "\u001b[1;32m~\\anaconda3\\lib\\site-packages\\joblib\\parallel.py\u001b[0m in \u001b[0;36m__call__\u001b[1;34m(self)\u001b[0m\n\u001b[0;32m    260\u001b[0m         \u001b[1;31m# change the default number of processes to -1\u001b[0m\u001b[1;33m\u001b[0m\u001b[1;33m\u001b[0m\u001b[1;33m\u001b[0m\u001b[0m\n\u001b[0;32m    261\u001b[0m         \u001b[1;32mwith\u001b[0m \u001b[0mparallel_backend\u001b[0m\u001b[1;33m(\u001b[0m\u001b[0mself\u001b[0m\u001b[1;33m.\u001b[0m\u001b[0m_backend\u001b[0m\u001b[1;33m,\u001b[0m \u001b[0mn_jobs\u001b[0m\u001b[1;33m=\u001b[0m\u001b[0mself\u001b[0m\u001b[1;33m.\u001b[0m\u001b[0m_n_jobs\u001b[0m\u001b[1;33m)\u001b[0m\u001b[1;33m:\u001b[0m\u001b[1;33m\u001b[0m\u001b[1;33m\u001b[0m\u001b[0m\n\u001b[1;32m--> 262\u001b[1;33m             return [func(*args, **kwargs)\n\u001b[0m\u001b[0;32m    263\u001b[0m                     for func, args, kwargs in self.items]\n\u001b[0;32m    264\u001b[0m \u001b[1;33m\u001b[0m\u001b[0m\n",
      "\u001b[1;32m~\\anaconda3\\lib\\site-packages\\joblib\\parallel.py\u001b[0m in \u001b[0;36m<listcomp>\u001b[1;34m(.0)\u001b[0m\n\u001b[0;32m    260\u001b[0m         \u001b[1;31m# change the default number of processes to -1\u001b[0m\u001b[1;33m\u001b[0m\u001b[1;33m\u001b[0m\u001b[1;33m\u001b[0m\u001b[0m\n\u001b[0;32m    261\u001b[0m         \u001b[1;32mwith\u001b[0m \u001b[0mparallel_backend\u001b[0m\u001b[1;33m(\u001b[0m\u001b[0mself\u001b[0m\u001b[1;33m.\u001b[0m\u001b[0m_backend\u001b[0m\u001b[1;33m,\u001b[0m \u001b[0mn_jobs\u001b[0m\u001b[1;33m=\u001b[0m\u001b[0mself\u001b[0m\u001b[1;33m.\u001b[0m\u001b[0m_n_jobs\u001b[0m\u001b[1;33m)\u001b[0m\u001b[1;33m:\u001b[0m\u001b[1;33m\u001b[0m\u001b[1;33m\u001b[0m\u001b[0m\n\u001b[1;32m--> 262\u001b[1;33m             return [func(*args, **kwargs)\n\u001b[0m\u001b[0;32m    263\u001b[0m                     for func, args, kwargs in self.items]\n\u001b[0;32m    264\u001b[0m \u001b[1;33m\u001b[0m\u001b[0m\n",
      "\u001b[1;32m~\\anaconda3\\lib\\site-packages\\sklearn\\utils\\fixes.py\u001b[0m in \u001b[0;36m__call__\u001b[1;34m(self, *args, **kwargs)\u001b[0m\n\u001b[0;32m    220\u001b[0m     \u001b[1;32mdef\u001b[0m \u001b[0m__call__\u001b[0m\u001b[1;33m(\u001b[0m\u001b[0mself\u001b[0m\u001b[1;33m,\u001b[0m \u001b[1;33m*\u001b[0m\u001b[0margs\u001b[0m\u001b[1;33m,\u001b[0m \u001b[1;33m**\u001b[0m\u001b[0mkwargs\u001b[0m\u001b[1;33m)\u001b[0m\u001b[1;33m:\u001b[0m\u001b[1;33m\u001b[0m\u001b[1;33m\u001b[0m\u001b[0m\n\u001b[0;32m    221\u001b[0m         \u001b[1;32mwith\u001b[0m \u001b[0mconfig_context\u001b[0m\u001b[1;33m(\u001b[0m\u001b[1;33m**\u001b[0m\u001b[0mself\u001b[0m\u001b[1;33m.\u001b[0m\u001b[0mconfig\u001b[0m\u001b[1;33m)\u001b[0m\u001b[1;33m:\u001b[0m\u001b[1;33m\u001b[0m\u001b[1;33m\u001b[0m\u001b[0m\n\u001b[1;32m--> 222\u001b[1;33m             \u001b[1;32mreturn\u001b[0m \u001b[0mself\u001b[0m\u001b[1;33m.\u001b[0m\u001b[0mfunction\u001b[0m\u001b[1;33m(\u001b[0m\u001b[1;33m*\u001b[0m\u001b[0margs\u001b[0m\u001b[1;33m,\u001b[0m \u001b[1;33m**\u001b[0m\u001b[0mkwargs\u001b[0m\u001b[1;33m)\u001b[0m\u001b[1;33m\u001b[0m\u001b[1;33m\u001b[0m\u001b[0m\n\u001b[0m",
      "\u001b[1;32m~\\anaconda3\\lib\\site-packages\\sklearn\\ensemble\\_forest.py\u001b[0m in \u001b[0;36m_parallel_build_trees\u001b[1;34m(tree, forest, X, y, sample_weight, tree_idx, n_trees, verbose, class_weight, n_samples_bootstrap)\u001b[0m\n\u001b[0;32m    167\u001b[0m                                                         indices=indices)\n\u001b[0;32m    168\u001b[0m \u001b[1;33m\u001b[0m\u001b[0m\n\u001b[1;32m--> 169\u001b[1;33m         \u001b[0mtree\u001b[0m\u001b[1;33m.\u001b[0m\u001b[0mfit\u001b[0m\u001b[1;33m(\u001b[0m\u001b[0mX\u001b[0m\u001b[1;33m,\u001b[0m \u001b[0my\u001b[0m\u001b[1;33m,\u001b[0m \u001b[0msample_weight\u001b[0m\u001b[1;33m=\u001b[0m\u001b[0mcurr_sample_weight\u001b[0m\u001b[1;33m,\u001b[0m \u001b[0mcheck_input\u001b[0m\u001b[1;33m=\u001b[0m\u001b[1;32mFalse\u001b[0m\u001b[1;33m)\u001b[0m\u001b[1;33m\u001b[0m\u001b[1;33m\u001b[0m\u001b[0m\n\u001b[0m\u001b[0;32m    170\u001b[0m     \u001b[1;32melse\u001b[0m\u001b[1;33m:\u001b[0m\u001b[1;33m\u001b[0m\u001b[1;33m\u001b[0m\u001b[0m\n\u001b[0;32m    171\u001b[0m         \u001b[0mtree\u001b[0m\u001b[1;33m.\u001b[0m\u001b[0mfit\u001b[0m\u001b[1;33m(\u001b[0m\u001b[0mX\u001b[0m\u001b[1;33m,\u001b[0m \u001b[0my\u001b[0m\u001b[1;33m,\u001b[0m \u001b[0msample_weight\u001b[0m\u001b[1;33m=\u001b[0m\u001b[0msample_weight\u001b[0m\u001b[1;33m,\u001b[0m \u001b[0mcheck_input\u001b[0m\u001b[1;33m=\u001b[0m\u001b[1;32mFalse\u001b[0m\u001b[1;33m)\u001b[0m\u001b[1;33m\u001b[0m\u001b[1;33m\u001b[0m\u001b[0m\n",
      "\u001b[1;32m~\\anaconda3\\lib\\site-packages\\sklearn\\tree\\_classes.py\u001b[0m in \u001b[0;36mfit\u001b[1;34m(self, X, y, sample_weight, check_input, X_idx_sorted)\u001b[0m\n\u001b[0;32m   1245\u001b[0m         \"\"\"\n\u001b[0;32m   1246\u001b[0m \u001b[1;33m\u001b[0m\u001b[0m\n\u001b[1;32m-> 1247\u001b[1;33m         super().fit(\n\u001b[0m\u001b[0;32m   1248\u001b[0m             \u001b[0mX\u001b[0m\u001b[1;33m,\u001b[0m \u001b[0my\u001b[0m\u001b[1;33m,\u001b[0m\u001b[1;33m\u001b[0m\u001b[1;33m\u001b[0m\u001b[0m\n\u001b[0;32m   1249\u001b[0m             \u001b[0msample_weight\u001b[0m\u001b[1;33m=\u001b[0m\u001b[0msample_weight\u001b[0m\u001b[1;33m,\u001b[0m\u001b[1;33m\u001b[0m\u001b[1;33m\u001b[0m\u001b[0m\n",
      "\u001b[1;32m~\\anaconda3\\lib\\site-packages\\sklearn\\tree\\_classes.py\u001b[0m in \u001b[0;36mfit\u001b[1;34m(self, X, y, sample_weight, check_input, X_idx_sorted)\u001b[0m\n\u001b[0;32m    387\u001b[0m                                            min_impurity_split)\n\u001b[0;32m    388\u001b[0m \u001b[1;33m\u001b[0m\u001b[0m\n\u001b[1;32m--> 389\u001b[1;33m         \u001b[0mbuilder\u001b[0m\u001b[1;33m.\u001b[0m\u001b[0mbuild\u001b[0m\u001b[1;33m(\u001b[0m\u001b[0mself\u001b[0m\u001b[1;33m.\u001b[0m\u001b[0mtree_\u001b[0m\u001b[1;33m,\u001b[0m \u001b[0mX\u001b[0m\u001b[1;33m,\u001b[0m \u001b[0my\u001b[0m\u001b[1;33m,\u001b[0m \u001b[0msample_weight\u001b[0m\u001b[1;33m)\u001b[0m\u001b[1;33m\u001b[0m\u001b[1;33m\u001b[0m\u001b[0m\n\u001b[0m\u001b[0;32m    390\u001b[0m \u001b[1;33m\u001b[0m\u001b[0m\n\u001b[0;32m    391\u001b[0m         \u001b[1;32mif\u001b[0m \u001b[0mself\u001b[0m\u001b[1;33m.\u001b[0m\u001b[0mn_outputs_\u001b[0m \u001b[1;33m==\u001b[0m \u001b[1;36m1\u001b[0m \u001b[1;32mand\u001b[0m \u001b[0mis_classifier\u001b[0m\u001b[1;33m(\u001b[0m\u001b[0mself\u001b[0m\u001b[1;33m)\u001b[0m\u001b[1;33m:\u001b[0m\u001b[1;33m\u001b[0m\u001b[1;33m\u001b[0m\u001b[0m\n",
      "\u001b[1;31mKeyboardInterrupt\u001b[0m: "
     ]
    }
   ],
   "source": [
    "from sklearn.ensemble import RandomForestRegressor\n",
    "\n",
    "\n",
    "# Random Forests\n",
    "RFX = Pipeline(steps=[('preprocessor', preprocessor),\n",
    "                      ('model', RandomForestRegressor(random_state=123,\n",
    "                                                     n_estimators=1000,\n",
    "                                                     max_depth=20))])\n",
    "\n",
    "\n",
    "\n",
    "# Recover the best model\n",
    "model_tot_comp_1lrf = RFX.fit(X_1_train, tot_comp_1l_train)\n",
    "pr_tot_comp_1lrf = model_tot_comp_1lrf.predict(X_1_train)"
   ]
  },
  {
   "cell_type": "code",
   "execution_count": 68,
   "id": "8c58ada1",
   "metadata": {},
   "outputs": [],
   "source": [
    "from sklearn.linear_model import LinearRegression\n",
    "import statsmodels.api as sm\n",
    "\n",
    "LRX = Pipeline(steps=[('preprocessor', preprocessor),\n",
    "                      ('model', LinearRegression())])\n",
    "\n",
    "\n",
    "model_tot_comp_3l = LRX.fit(X_3_train, tot_comp_3l_train)\n",
    "pr = model_tot_comp_3l.predict(X_3_train)\n",
    "\n",
    "model_tot_comp_1l = LRX.fit(X_1_train, tot_comp_1l_train)\n",
    "pr_tot_comp_1l = model_tot_comp_1l.predict(X_1_train)\n",
    "\n",
    "\n",
    "model_tot_comp_3 = LRX.fit(X_3_train, tot_comp_3_train)\n",
    "pr_tot_comp_3 = model_tot_comp_3.predict(X_3_train)\n",
    "\n",
    "\n",
    "\n"
   ]
  },
  {
   "cell_type": "code",
   "execution_count": 69,
   "id": "0d0f5487",
   "metadata": {},
   "outputs": [],
   "source": [
    "pr = model_tot_comp_3l.predict(X_3_test)\n",
    "\n"
   ]
  },
  {
   "cell_type": "code",
   "execution_count": 70,
   "id": "36e83575",
   "metadata": {},
   "outputs": [
    {
     "data": {
      "text/plain": [
       "array([[ 1.        , -0.00536847],\n",
       "       [-0.00536847,  1.        ]])"
      ]
     },
     "execution_count": 70,
     "metadata": {},
     "output_type": "execute_result"
    }
   ],
   "source": [
    "cor = np.corrcoef(pr, tot_comp_3l_test)\n",
    "cor\n"
   ]
  },
  {
   "cell_type": "code",
   "execution_count": 67,
   "id": "4d7aa2b4",
   "metadata": {},
   "outputs": [
    {
     "data": {
      "text/plain": [
       "2531346919.285409"
      ]
     },
     "execution_count": 67,
     "metadata": {},
     "output_type": "execute_result"
    }
   ],
   "source": [
    "np.sqrt(mean_squared_error(pr, tot_comp_3l_test))"
   ]
  },
  {
   "cell_type": "code",
   "execution_count": 66,
   "id": "6b8b1a77",
   "metadata": {},
   "outputs": [
    {
     "data": {
      "text/plain": [
       "-2.0931478772467926e-11"
      ]
     },
     "execution_count": 66,
     "metadata": {},
     "output_type": "execute_result"
    }
   ],
   "source": [
    "explained_variance_score(pr, tot_comp_3l_test)"
   ]
  },
  {
   "cell_type": "code",
   "execution_count": 52,
   "id": "2288f37f",
   "metadata": {
    "scrolled": true
   },
   "outputs": [
    {
     "data": {
      "text/plain": [
       "2.6432236597177488"
      ]
     },
     "execution_count": 52,
     "metadata": {},
     "output_type": "execute_result"
    }
   ],
   "source": [
    "np.mean(tot_comp_3l_train)"
   ]
  },
  {
   "cell_type": "code",
   "execution_count": 56,
   "id": "9c94a63b",
   "metadata": {},
   "outputs": [
    {
     "data": {
      "text/plain": [
       "array([3.09690663e+04, 0.00000000e+00, 0.00000000e+00, 0.00000000e+00,\n",
       "       2.91285631e+04, 3.53593681e+04, 9.90072504e+03, 0.00000000e+00,\n",
       "       1.09236311e+05, 4.34177606e+03, 2.98287331e+04, 5.17131415e+04,\n",
       "       9.46825776e+04, 0.00000000e+00, 6.05916164e+04, 0.00000000e+00,\n",
       "       2.86898644e+04, 2.14810477e+05, 5.01515026e+05, 0.00000000e+00,\n",
       "       1.18121389e+04, 7.14794147e+04, 1.43734195e+05, 0.00000000e+00,\n",
       "       3.98143883e+05, 0.00000000e+00, 0.00000000e+00, 0.00000000e+00,\n",
       "       4.88865580e+04, 0.00000000e+00, 0.00000000e+00, 1.95782101e+04,\n",
       "       3.10594995e+04, 1.42930737e+04, 1.80740500e+04, 3.53074062e+04,\n",
       "       0.00000000e+00, 0.00000000e+00, 0.00000000e+00, 0.00000000e+00,\n",
       "       0.00000000e+00, 4.39786288e+04, 1.56097174e+05, 0.00000000e+00,\n",
       "       0.00000000e+00, 0.00000000e+00, 4.60301488e+05, 1.04630959e+04,\n",
       "       3.89494035e+01, 1.32022802e+04, 0.00000000e+00, 0.00000000e+00,\n",
       "       0.00000000e+00, 4.00004884e+06, 1.94742762e+05, 3.96806891e+03,\n",
       "       1.12520773e+04, 0.00000000e+00, 1.76597575e+04, 0.00000000e+00,\n",
       "       0.00000000e+00, 1.10470038e+03, 1.66328597e+04, 5.30538481e+04,\n",
       "       0.00000000e+00, 8.49504767e+04, 1.58977419e+04, 9.43572113e+03,\n",
       "       4.44224237e+03, 0.00000000e+00, 5.91465028e+02, 0.00000000e+00,\n",
       "       4.13424941e+05, 0.00000000e+00, 4.58391923e+04, 0.00000000e+00,\n",
       "       5.17142975e+03, 8.88859560e+02, 3.47278964e+04, 0.00000000e+00,\n",
       "       0.00000000e+00, 1.67015836e+05, 8.45876819e+04, 0.00000000e+00,\n",
       "       1.59287744e+05, 0.00000000e+00, 0.00000000e+00, 1.90048682e+06,\n",
       "       0.00000000e+00, 1.34733532e+04, 3.81888786e+04, 1.34098190e+04,\n",
       "       2.70689225e+04, 0.00000000e+00, 4.21215031e+04, 0.00000000e+00,\n",
       "       5.69329130e+04, 3.13182954e+04, 0.00000000e+00, 7.79780319e+04,\n",
       "       8.06619764e+05, 0.00000000e+00, 3.51507660e+03, 2.36320697e+03,\n",
       "       0.00000000e+00, 0.00000000e+00, 5.56386657e+04, 2.77544943e+04,\n",
       "       4.24457683e+04, 2.39768996e+04, 0.00000000e+00, 6.44710809e+03,\n",
       "       8.36692751e+04, 0.00000000e+00, 1.80820688e+04, 0.00000000e+00,\n",
       "       0.00000000e+00, 6.04533148e+03, 0.00000000e+00, 0.00000000e+00,\n",
       "       1.00676577e+05, 7.50469077e+04, 6.88888454e+04, 0.00000000e+00,\n",
       "       0.00000000e+00, 3.35423876e+04, 3.71023820e+04, 3.11645052e+02,\n",
       "       0.00000000e+00, 8.76654254e+03, 1.55606314e+05, 6.78786469e+05,\n",
       "       3.93017707e+04, 0.00000000e+00, 1.74800190e+04, 6.86714081e+03,\n",
       "       4.64816364e+04, 0.00000000e+00, 3.11173090e+04, 9.18462951e+04,\n",
       "       7.20706195e+03, 0.00000000e+00, 2.85435370e+03, 0.00000000e+00,\n",
       "       3.32343823e+04, 8.43196677e+04, 1.81089396e+04, 0.00000000e+00,\n",
       "       0.00000000e+00, 1.40477844e+04, 2.67344440e+04, 0.00000000e+00,\n",
       "       1.86133713e+04, 0.00000000e+00, 0.00000000e+00, 1.44404754e+05,\n",
       "       0.00000000e+00, 0.00000000e+00, 0.00000000e+00, 6.67775200e+04,\n",
       "       0.00000000e+00, 1.14794296e+04, 5.26691547e+03, 0.00000000e+00,\n",
       "       3.11798400e+04, 0.00000000e+00, 4.69676480e+04, 6.09411791e+04,\n",
       "       3.36854389e+03, 2.26758453e+04, 0.00000000e+00, 0.00000000e+00,\n",
       "       7.19303769e+04, 0.00000000e+00, 9.99416200e+02, 4.26574277e+05,\n",
       "       0.00000000e+00, 7.20153564e+04, 4.30991230e+04, 3.56778520e+04,\n",
       "       1.02094437e+05, 2.05345339e+04, 1.63972016e+05, 2.02843935e+02,\n",
       "       2.93044614e+04, 5.11509536e+04, 0.00000000e+00, 0.00000000e+00,\n",
       "       0.00000000e+00, 1.08543655e+05, 1.35200610e+04, 0.00000000e+00,\n",
       "       1.03988706e+05, 0.00000000e+00, 2.45123276e+04, 0.00000000e+00,\n",
       "       0.00000000e+00, 1.90599785e+04, 1.46107560e+04, 0.00000000e+00,\n",
       "       1.10575806e+05, 0.00000000e+00, 3.56041864e+03, 0.00000000e+00,\n",
       "       2.07572222e+05, 3.80972231e+04, 0.00000000e+00, 1.69982343e+06,\n",
       "       1.41103984e+05, 1.47152539e+05, 0.00000000e+00, 0.00000000e+00,\n",
       "       4.63222690e+04, 8.32157611e+03, 2.14666044e+04, 3.30746782e+04,\n",
       "       1.60723146e+04, 4.90187685e+02, 0.00000000e+00, 0.00000000e+00,\n",
       "       7.03284001e+04, 1.95077997e+04, 0.00000000e+00, 1.26226190e+03,\n",
       "       0.00000000e+00, 2.19265043e+04, 3.69179767e+04, 2.35798700e+03,\n",
       "       2.10564968e+05, 5.23640254e+05, 2.46203863e+04, 3.88654065e+04,\n",
       "       3.88127057e+05, 5.02803830e+04, 4.50098797e+04, 2.84384323e+04,\n",
       "       3.33028290e+03, 7.89711556e+04, 0.00000000e+00, 0.00000000e+00,\n",
       "       3.27210832e+04, 1.64526549e+05, 4.28086200e+03, 1.82295722e+03,\n",
       "       9.15486542e+03, 1.19965435e+05, 3.08307758e+04, 1.96921364e+05,\n",
       "       5.88149870e+04, 1.52599002e+05, 5.70423407e+03, 8.18371376e+04,\n",
       "       2.16967985e+04, 6.96175410e+04, 0.00000000e+00, 9.54005438e+03,\n",
       "       4.23400134e+04, 2.61189377e+04, 0.00000000e+00, 2.48788015e+04,\n",
       "       0.00000000e+00, 5.18640101e+04, 0.00000000e+00, 7.71408339e+04,\n",
       "       4.77449582e+04, 0.00000000e+00, 0.00000000e+00, 9.48730264e+04,\n",
       "       3.98241562e+04, 0.00000000e+00, 0.00000000e+00, 1.96265356e+05,\n",
       "       7.24970648e+03, 1.40474971e+05, 0.00000000e+00, 3.34068015e+04,\n",
       "       3.17733577e+05, 0.00000000e+00, 0.00000000e+00, 0.00000000e+00,\n",
       "       1.02429850e+05, 1.35325283e+04, 4.99459003e+04, 2.24541735e+04,\n",
       "       1.31669307e+05, 1.04306545e+04, 8.11517432e+04, 0.00000000e+00,\n",
       "       0.00000000e+00, 8.31536662e+04, 3.60063356e+04, 0.00000000e+00,\n",
       "       1.53878972e+05, 9.84784135e+04, 0.00000000e+00, 0.00000000e+00,\n",
       "       0.00000000e+00, 9.69157050e+04, 3.55306497e+04, 0.00000000e+00,\n",
       "       5.42972562e+04, 0.00000000e+00, 9.25069032e+02, 1.51188836e+05,\n",
       "       7.28859894e+03, 2.02100671e+04, 0.00000000e+00, 2.57998508e+04,\n",
       "       0.00000000e+00, 1.56084777e+04, 3.71199724e+04, 3.88037643e+04,\n",
       "       0.00000000e+00, 1.61591066e+04, 0.00000000e+00, 3.69816723e+04,\n",
       "       0.00000000e+00, 1.58330799e+05, 6.04432497e+04, 0.00000000e+00,\n",
       "       0.00000000e+00, 0.00000000e+00, 1.61765643e+03, 0.00000000e+00,\n",
       "       2.05562343e+04, 0.00000000e+00, 0.00000000e+00, 1.61820287e+04,\n",
       "       1.36126024e+05, 0.00000000e+00, 0.00000000e+00, 1.38410361e+04,\n",
       "       0.00000000e+00, 0.00000000e+00, 7.29743259e+04, 1.55585593e+04,\n",
       "       1.28215375e+03, 0.00000000e+00, 0.00000000e+00, 0.00000000e+00,\n",
       "       0.00000000e+00, 1.18253801e+04, 5.35443652e+04, 2.94069743e+04,\n",
       "       0.00000000e+00])"
      ]
     },
     "execution_count": 56,
     "metadata": {},
     "output_type": "execute_result"
    }
   ],
   "source": [
    "pr\n"
   ]
  },
  {
   "cell_type": "code",
   "execution_count": 58,
   "id": "e5dd2d93",
   "metadata": {},
   "outputs": [
    {
     "data": {
      "text/plain": [
       "52885.74244"
      ]
     },
     "execution_count": 58,
     "metadata": {},
     "output_type": "execute_result"
    }
   ],
   "source": [
    "np.mean(tot_comp_3_train)"
   ]
  },
  {
   "cell_type": "code",
   "execution_count": 59,
   "id": "5a69c93f",
   "metadata": {},
   "outputs": [
    {
     "data": {
      "text/plain": [
       "52885.74145685971"
      ]
     },
     "execution_count": 59,
     "metadata": {},
     "output_type": "execute_result"
    }
   ],
   "source": [
    "np.mean(pr_tot_comp_3)"
   ]
  },
  {
   "cell_type": "code",
   "execution_count": 60,
   "id": "8217920b",
   "metadata": {},
   "outputs": [
    {
     "data": {
      "text/plain": [
       "array([ 3.09690663e+04, -2.25423220e+05, -2.24359815e+04, -1.49034796e+04,\n",
       "        2.91285631e+04,  3.53593681e+04,  9.90072504e+03, -2.00689842e+04,\n",
       "        1.09236311e+05,  4.34177606e+03,  2.98287331e+04,  5.17131415e+04,\n",
       "        9.46825776e+04, -7.56822645e+04,  6.05916164e+04, -3.02406756e+04,\n",
       "        2.86898644e+04,  2.14810477e+05,  5.01515026e+05, -3.55196441e+04,\n",
       "        1.18121389e+04,  7.14794147e+04,  1.43734195e+05, -3.55235362e+04,\n",
       "        3.98143883e+05, -3.81351398e+04, -3.12024964e+04, -1.37930406e+04,\n",
       "        4.88865580e+04, -2.24716192e+03, -3.07413397e+04,  1.95782101e+04,\n",
       "        3.10594995e+04,  1.42930737e+04,  1.80740500e+04,  3.53074062e+04,\n",
       "       -1.85099866e+04, -2.36079669e+03, -6.00285260e+03, -1.38621985e+04,\n",
       "       -2.52750587e+04,  4.39786288e+04,  1.56097174e+05, -2.44634296e+04,\n",
       "       -1.72822036e+05, -5.62191048e+04,  4.60301488e+05,  1.04630959e+04,\n",
       "        3.89494035e+01,  1.32022802e+04, -7.20907978e+04, -3.90977740e+03,\n",
       "       -1.09250079e+03,  4.00004884e+06,  1.94742762e+05,  3.96806891e+03,\n",
       "        1.12520773e+04, -2.51574839e+04,  1.76597575e+04, -5.33278113e+04,\n",
       "       -1.34583819e+03,  1.10470038e+03,  1.66328597e+04,  5.30538481e+04,\n",
       "       -3.94364020e+03,  8.49504767e+04,  1.58977419e+04,  9.43572113e+03,\n",
       "        4.44224237e+03, -3.73279188e+04,  5.91465028e+02, -6.51730284e+02,\n",
       "        4.13424941e+05, -5.82493038e+04,  4.58391923e+04, -3.43846390e+04,\n",
       "        5.17142975e+03,  8.88859560e+02,  3.47278964e+04, -3.97321424e+04,\n",
       "       -3.19668863e+04,  1.67015836e+05,  8.45876819e+04, -1.42147858e+03,\n",
       "        1.59287744e+05, -3.79017791e+04, -1.25394734e+04,  1.90048682e+06,\n",
       "       -5.34523416e+04,  1.34733532e+04,  3.81888786e+04,  1.34098190e+04,\n",
       "        2.70689225e+04, -2.03501431e+04,  4.21215031e+04, -2.24391939e+04,\n",
       "        5.69329130e+04,  3.13182954e+04, -1.88801334e+04,  7.79780319e+04,\n",
       "        8.06619764e+05, -2.88882877e+04,  3.51507660e+03,  2.36320697e+03,\n",
       "       -1.44269975e+05, -6.20073748e+04,  5.56386657e+04,  2.77544943e+04,\n",
       "        4.24457683e+04,  2.39768996e+04, -9.67058429e+03,  6.44710809e+03,\n",
       "        8.36692751e+04, -3.46256995e+04,  1.80820688e+04, -5.84297052e+03,\n",
       "       -4.13493582e+04,  6.04533148e+03, -1.84928464e+05, -3.01188458e+03,\n",
       "        1.00676577e+05,  7.50469077e+04,  6.88888454e+04, -9.92752928e+02,\n",
       "       -1.49784178e+04,  3.35423876e+04,  3.71023820e+04,  3.11645052e+02,\n",
       "       -1.33876971e+04,  8.76654254e+03,  1.55606314e+05,  6.78786469e+05,\n",
       "        3.93017707e+04, -7.99032198e+04,  1.74800190e+04,  6.86714081e+03,\n",
       "        4.64816364e+04, -1.90849388e+03,  3.11173090e+04,  9.18462951e+04,\n",
       "        7.20706195e+03, -1.57667396e+04,  2.85435370e+03, -6.00285260e+03,\n",
       "        3.32343823e+04,  8.43196677e+04,  1.81089396e+04, -3.49447674e+04,\n",
       "       -3.23894166e+04,  1.40477844e+04,  2.67344440e+04, -7.08138190e+03,\n",
       "        1.86133713e+04, -4.67017012e+04, -4.79289301e+04,  1.44404754e+05,\n",
       "       -2.65408117e+04, -2.20598395e+03, -9.95017527e+04,  6.67775200e+04,\n",
       "       -4.00871197e+03,  1.14794296e+04,  5.26691547e+03, -4.33506795e+04,\n",
       "        3.11798400e+04, -3.46390943e+04,  4.69676480e+04,  6.09411791e+04,\n",
       "        3.36854389e+03,  2.26758453e+04, -9.63899672e+04, -1.94327625e+04,\n",
       "        7.19303769e+04, -6.31723411e+04,  9.99416200e+02,  4.26574277e+05,\n",
       "       -3.01245982e+04,  7.20153564e+04,  4.30991230e+04,  3.56778520e+04,\n",
       "        1.02094437e+05,  2.05345339e+04,  1.63972016e+05,  2.02843935e+02,\n",
       "        2.93044614e+04,  5.11509536e+04, -7.12276495e+03, -3.40229230e+03,\n",
       "       -2.69574129e+04,  1.08543655e+05,  1.35200610e+04, -4.10083760e+04,\n",
       "        1.03988706e+05, -8.01074786e+03,  2.45123276e+04, -5.56502960e+03,\n",
       "       -1.42490264e+04,  1.90599785e+04,  1.46107560e+04, -2.44222891e+04,\n",
       "        1.10575806e+05, -9.31474982e+03,  3.56041864e+03, -7.66883025e+04,\n",
       "        2.07572222e+05,  3.80972231e+04, -5.41055364e+04,  1.69982343e+06,\n",
       "        1.41103984e+05,  1.47152539e+05, -1.86285255e+04, -1.13561362e+05,\n",
       "        4.63222690e+04,  8.32157611e+03,  2.14666044e+04,  3.30746782e+04,\n",
       "        1.60723146e+04,  4.90187685e+02, -4.06370880e+03, -1.08394935e+04,\n",
       "        7.03284001e+04,  1.95077997e+04, -1.84076578e+04,  1.26226190e+03,\n",
       "       -5.18132271e+04,  2.19265043e+04,  3.69179767e+04,  2.35798700e+03,\n",
       "        2.10564968e+05,  5.23640254e+05,  2.46203863e+04,  3.88654065e+04,\n",
       "        3.88127057e+05,  5.02803830e+04,  4.50098797e+04,  2.84384323e+04,\n",
       "        3.33028290e+03,  7.89711556e+04, -2.04075540e+04, -3.14073421e+04,\n",
       "        3.27210832e+04,  1.64526549e+05,  4.28086200e+03,  1.82295722e+03,\n",
       "        9.15486542e+03,  1.19965435e+05,  3.08307758e+04,  1.96921364e+05,\n",
       "        5.88149870e+04,  1.52599002e+05,  5.70423407e+03,  8.18371376e+04,\n",
       "        2.16967985e+04,  6.96175410e+04, -1.54385635e+04,  9.54005438e+03,\n",
       "        4.23400134e+04,  2.61189377e+04, -8.46334234e+03,  2.48788015e+04,\n",
       "       -3.65410601e+04,  5.18640101e+04, -1.03980233e+04,  7.71408339e+04,\n",
       "        4.77449582e+04, -2.42758731e+04, -6.12795018e+04,  9.48730264e+04,\n",
       "        3.98241562e+04, -7.54860748e+03, -4.90749083e+02,  1.96265356e+05,\n",
       "        7.24970648e+03,  1.40474971e+05, -2.16664288e+03,  3.34068015e+04,\n",
       "        3.17733577e+05, -2.90844415e+03, -1.78317942e+04, -7.13699322e+03,\n",
       "        1.02429850e+05,  1.35325283e+04,  4.99459003e+04,  2.24541735e+04,\n",
       "        1.31669307e+05,  1.04306545e+04,  8.11517432e+04, -7.81954742e+03,\n",
       "       -5.87636802e+04,  8.31536662e+04,  3.60063356e+04, -4.27855230e+04,\n",
       "        1.53878972e+05,  9.84784135e+04, -5.56502960e+03, -1.41509195e+04,\n",
       "       -4.38154471e+04,  9.69157050e+04,  3.55306497e+04, -1.78918758e+04,\n",
       "        5.42972562e+04, -1.52241036e+04,  9.25069032e+02,  1.51188836e+05,\n",
       "        7.28859894e+03,  2.02100671e+04, -3.11007484e+04,  2.57998508e+04,\n",
       "       -1.44431915e+03,  1.56084777e+04,  3.71199724e+04,  3.88037643e+04,\n",
       "       -1.92583651e+04,  1.61591066e+04, -7.76731810e+04,  3.69816723e+04,\n",
       "       -4.74435682e+04,  1.58330799e+05,  6.04432497e+04, -6.57071487e+04,\n",
       "       -1.32525875e+04, -7.89862894e+04,  1.61765643e+03, -1.43092830e+04,\n",
       "        2.05562343e+04, -2.81720284e+04, -1.96607154e+04,  1.61820287e+04,\n",
       "        1.36126024e+05, -5.99439400e+04, -3.55681212e+04,  1.38410361e+04,\n",
       "       -4.94655450e+03, -7.76731810e+04,  7.29743259e+04,  1.55585593e+04,\n",
       "        1.28215375e+03, -8.42843565e+02, -1.02299647e+04, -1.07487848e+05,\n",
       "       -1.91409823e+04,  1.18253801e+04,  5.35443652e+04,  2.94069743e+04,\n",
       "       -2.14516905e+02])"
      ]
     },
     "execution_count": 60,
     "metadata": {},
     "output_type": "execute_result"
    }
   ],
   "source": [
    "pr_tot_comp_3"
   ]
  },
  {
   "cell_type": "code",
   "execution_count": null,
   "id": "29044a4d",
   "metadata": {},
   "outputs": [],
   "source": []
  }
 ],
 "metadata": {
  "kernelspec": {
   "display_name": "Python 3",
   "language": "python",
   "name": "python3"
  },
  "language_info": {
   "codemirror_mode": {
    "name": "ipython",
    "version": 3
   },
   "file_extension": ".py",
   "mimetype": "text/x-python",
   "name": "python",
   "nbconvert_exporter": "python",
   "pygments_lexer": "ipython3",
   "version": "3.8.8"
  }
 },
 "nbformat": 4,
 "nbformat_minor": 5
}
